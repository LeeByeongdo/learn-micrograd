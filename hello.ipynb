{
 "cells": [
  {
   "cell_type": "code",
   "execution_count": 1,
   "outputs": [
    {
     "ename": "ModuleNotFoundError",
     "evalue": "No module named 'numpy'",
     "output_type": "error",
     "traceback": [
      "\u001B[0;31m---------------------------------------------------------------------------\u001B[0m",
      "\u001B[0;31mModuleNotFoundError\u001B[0m                       Traceback (most recent call last)",
      "Cell \u001B[0;32mIn[1], line 2\u001B[0m\n\u001B[1;32m      1\u001B[0m \u001B[38;5;28;01mimport\u001B[39;00m \u001B[38;5;21;01mmath\u001B[39;00m\n\u001B[0;32m----> 2\u001B[0m \u001B[38;5;28;01mimport\u001B[39;00m \u001B[38;5;21;01mnumpy\u001B[39;00m \u001B[38;5;28;01mas\u001B[39;00m \u001B[38;5;21;01mnp\u001B[39;00m\n\u001B[1;32m      3\u001B[0m \u001B[38;5;28;01mimport\u001B[39;00m \u001B[38;5;21;01mmatplotlib\u001B[39;00m\u001B[38;5;21;01m.\u001B[39;00m\u001B[38;5;21;01mpyplot\u001B[39;00m \u001B[38;5;28;01mas\u001B[39;00m \u001B[38;5;21;01mplt\u001B[39;00m\n\u001B[1;32m      4\u001B[0m get_ipython()\u001B[38;5;241m.\u001B[39mrun_line_magic(\u001B[38;5;124m'\u001B[39m\u001B[38;5;124mmatlotlib\u001B[39m\u001B[38;5;124m'\u001B[39m, \u001B[38;5;124m'\u001B[39m\u001B[38;5;124minline\u001B[39m\u001B[38;5;124m'\u001B[39m)\n",
      "\u001B[0;31mModuleNotFoundError\u001B[0m: No module named 'numpy'"
     ]
    }
   ],
   "source": [
    "import math\n",
    "import numpy as np\n",
    "import matplotlib.pyplot as plt\n",
    "% matlotlib inline"
   ],
   "metadata": {
    "collapsed": false
   }
  },
  {
   "cell_type": "code",
   "execution_count": 77,
   "outputs": [],
   "source": [
    "class Value:\n",
    "    def __init__(self, data, _children=(), _op=\"\", label=\"\"):\n",
    "        self.data = data\n",
    "        self.grad = 0.0\n",
    "        self._backward = lambda: None\n",
    "        self._prev = set(_children)\n",
    "        self._op = _op\n",
    "        self.label = label\n",
    "\n",
    "    def __repr__(self):\n",
    "        return f\"Value(data={self.data})\"\n",
    "\n",
    "    def __add__(self, other):\n",
    "        other = other if isinstance(other, Value) else Value(other)\n",
    "        out = Value(self.data + other.data, (self, other), \"+\")\n",
    "\n",
    "        def _backward():\n",
    "            self.grad += 1.0 * out.grad\n",
    "            other.grad += 1.0 * out.grad\n",
    "\n",
    "        out._backward = _backward\n",
    "\n",
    "        return out\n",
    "\n",
    "    def __radd__(self, other):\n",
    "        return self + other\n",
    "\n",
    "    def __sub__(self, other):\n",
    "        return self + (-other)\n",
    "\n",
    "    def __rsub__(self, other):\n",
    "        return self - other\n",
    "\n",
    "    def __neg__(self):\n",
    "        return self * -1\n",
    "\n",
    "    def __mul__(self, other):\n",
    "        other = other if isinstance(other, Value) else Value(other)\n",
    "        out = Value(self.data * other.data, (self, other), \"*\")\n",
    "\n",
    "        def _backward():\n",
    "            self.grad += other.data * out.grad\n",
    "            other.grad += self.data * out.grad\n",
    "\n",
    "        out._backward = _backward\n",
    "\n",
    "        return out\n",
    "\n",
    "    def __rmul__(self, other):\n",
    "        return self * other\n",
    "\n",
    "    def __truediv__(self, other):\n",
    "        return self * other ** -1\n",
    "\n",
    "    def __pow__(self, other):\n",
    "        assert isinstance(other, (int, float)), \"only support int/float powers for now\"\n",
    "        out = Value(self.data ** other, (self,), f'**{other}')\n",
    "\n",
    "        def _backward():\n",
    "            self.grad += (other * out.data ** (other - 1)) * out.grad\n",
    "\n",
    "        out._backward = _backward\n",
    "\n",
    "        return out\n",
    "\n",
    "    def tanh(self):\n",
    "        x = self.data\n",
    "        t = (math.exp(2 * x) - 1) / (math.exp(2 * x) + 1)\n",
    "        out = Value(t, (self,), 'tanh')\n",
    "\n",
    "        def _backward():\n",
    "            self.grad += (1 - t ** 2) * out.grad\n",
    "\n",
    "        out._backward = _backward\n",
    "\n",
    "        return out\n",
    "\n",
    "    def exp(self):\n",
    "        x = self.data\n",
    "        out = Value(math.exp(x), (self,), 'exp')\n",
    "\n",
    "        def _backward():\n",
    "            self.grad += out.data * out.grad\n",
    "\n",
    "        out._backward = _backward\n",
    "\n",
    "        return out\n",
    "\n",
    "    def backward(self):\n",
    "        topo = []\n",
    "        visited = set()\n",
    "\n",
    "        def build_topo(v):\n",
    "            if v not in visited:\n",
    "                visited.add(v)\n",
    "                for child in v._prev:\n",
    "                    build_topo(child)\n",
    "                topo.append(v)\n",
    "\n",
    "        build_topo(self)\n",
    "\n",
    "        self.grad = 1.0\n",
    "        for node in reversed(topo):\n",
    "            node._backward()\n",
    "\n"
   ],
   "metadata": {
    "collapsed": false
   }
  },
  {
   "cell_type": "code",
   "execution_count": 76,
   "outputs": [
    {
     "data": {
      "text/plain": "Value(data=0.5)"
     },
     "execution_count": 76,
     "metadata": {},
     "output_type": "execute_result"
    }
   ],
   "source": [
    "a = Value(2.0)\n",
    "b = Value(4.0)\n",
    "a / b\n"
   ],
   "metadata": {
    "collapsed": false
   }
  },
  {
   "cell_type": "code",
   "execution_count": 3,
   "outputs": [],
   "source": [
    "from graphviz import Digraph\n",
    "\n",
    "\n",
    "def trace(root):\n",
    "    nodes, edges = set(), set()\n",
    "\n",
    "    def build(v):\n",
    "        if v not in nodes:\n",
    "            nodes.add(v)\n",
    "            for child in v._prev:\n",
    "                edges.add((child, v))\n",
    "                build(child)\n",
    "\n",
    "    build(root)\n",
    "    return nodes, edges\n",
    "\n",
    "\n",
    "def draw_dot(root):\n",
    "    dot = Digraph(format=\"svg\", graph_attr={\"rankdir\": \"LR\"})\n",
    "\n",
    "    nodes, edges = trace(root)\n",
    "    for n in nodes:\n",
    "        uid = str(id(n))\n",
    "        dot.node(name=uid, label=\"{%s | data %.4f | grad %.4f }\" % (n.label, n.data, n.grad), shape=\"record\")\n",
    "        if n._op:\n",
    "            dot.node(name=uid + n._op, label=n._op)\n",
    "            dot.edge(uid + n._op, uid)\n",
    "\n",
    "    for n1, n2 in edges:\n",
    "        dot.edge(str(id(n1)), (str(id(n2)) + n2._op))\n",
    "\n",
    "    return dot"
   ],
   "metadata": {
    "collapsed": false
   }
  },
  {
   "cell_type": "code",
   "execution_count": 79,
   "outputs": [
    {
     "data": {
      "image/svg+xml": "<?xml version=\"1.0\" encoding=\"UTF-8\" standalone=\"no\"?>\n<!DOCTYPE svg PUBLIC \"-//W3C//DTD SVG 1.1//EN\"\n \"http://www.w3.org/Graphics/SVG/1.1/DTD/svg11.dtd\">\n<!-- Generated by graphviz version 7.1.0 (20230121.1956)\n -->\n<!-- Pages: 1 -->\n<svg width=\"1575pt\" height=\"210pt\"\n viewBox=\"0.00 0.00 1575.00 210.00\" xmlns=\"http://www.w3.org/2000/svg\" xmlns:xlink=\"http://www.w3.org/1999/xlink\">\n<g id=\"graph0\" class=\"graph\" transform=\"scale(1 1) rotate(0) translate(4 206)\">\n<polygon fill=\"white\" stroke=\"none\" points=\"-4,4 -4,-206 1571,-206 1571,4 -4,4\"/>\n<!-- 4376842384 -->\n<g id=\"node1\" class=\"node\">\n<title>4376842384</title>\n<polygon fill=\"none\" stroke=\"black\" points=\"326,-55.5 326,-91.5 546,-91.5 546,-55.5 326,-55.5\"/>\n<text text-anchor=\"middle\" x=\"352.5\" y=\"-69.8\" font-family=\"Times,serif\" font-size=\"14.00\">x1*w1</text>\n<polyline fill=\"none\" stroke=\"black\" points=\"379,-55.5 379,-91.5\"/>\n<text text-anchor=\"middle\" x=\"421.5\" y=\"-69.8\" font-family=\"Times,serif\" font-size=\"14.00\">data &#45;6.0000</text>\n<polyline fill=\"none\" stroke=\"black\" points=\"464,-55.5 464,-91.5\"/>\n<text text-anchor=\"middle\" x=\"505\" y=\"-69.8\" font-family=\"Times,serif\" font-size=\"14.00\">grad 0.6347</text>\n</g>\n<!-- 4376842064+ -->\n<g id=\"node13\" class=\"node\">\n<title>4376842064+</title>\n<ellipse fill=\"none\" stroke=\"black\" cx=\"609\" cy=\"-100.5\" rx=\"27\" ry=\"18\"/>\n<text text-anchor=\"middle\" x=\"609\" y=\"-96.8\" font-family=\"Times,serif\" font-size=\"14.00\">+</text>\n</g>\n<!-- 4376842384&#45;&gt;4376842064+ -->\n<g id=\"edge10\" class=\"edge\">\n<title>4376842384&#45;&gt;4376842064+</title>\n<path fill=\"none\" stroke=\"black\" d=\"M545.78,-90.68C554.79,-92.1 563.43,-93.46 571.25,-94.7\"/>\n<polygon fill=\"black\" stroke=\"black\" points=\"570.51,-98.12 580.94,-96.23 571.61,-91.21 570.51,-98.12\"/>\n</g>\n<!-- 4376842384* -->\n<g id=\"node2\" class=\"node\">\n<title>4376842384*</title>\n<ellipse fill=\"none\" stroke=\"black\" cx=\"263\" cy=\"-73.5\" rx=\"27\" ry=\"18\"/>\n<text text-anchor=\"middle\" x=\"263\" y=\"-69.8\" font-family=\"Times,serif\" font-size=\"14.00\">*</text>\n</g>\n<!-- 4376842384*&#45;&gt;4376842384 -->\n<g id=\"edge1\" class=\"edge\">\n<title>4376842384*&#45;&gt;4376842384</title>\n<path fill=\"none\" stroke=\"black\" d=\"M290.34,-73.5C297.6,-73.5 305.98,-73.5 314.97,-73.5\"/>\n<polygon fill=\"black\" stroke=\"black\" points=\"314.69,-77 324.69,-73.5 314.69,-70 314.69,-77\"/>\n</g>\n<!-- 4376838864 -->\n<g id=\"node3\" class=\"node\">\n<title>4376838864</title>\n<polygon fill=\"none\" stroke=\"black\" points=\"1071,-109.5 1071,-145.5 1256,-145.5 1256,-109.5 1071,-109.5\"/>\n<text text-anchor=\"middle\" x=\"1082.5\" y=\"-123.8\" font-family=\"Times,serif\" font-size=\"14.00\">n</text>\n<polyline fill=\"none\" stroke=\"black\" points=\"1094,-109.5 1094,-145.5\"/>\n<text text-anchor=\"middle\" x=\"1134\" y=\"-123.8\" font-family=\"Times,serif\" font-size=\"14.00\">data 0.7000</text>\n<polyline fill=\"none\" stroke=\"black\" points=\"1174,-109.5 1174,-145.5\"/>\n<text text-anchor=\"middle\" x=\"1215\" y=\"-123.8\" font-family=\"Times,serif\" font-size=\"14.00\">grad 0.6347</text>\n</g>\n<!-- 4376841424tanh -->\n<g id=\"node6\" class=\"node\">\n<title>4376841424tanh</title>\n<ellipse fill=\"none\" stroke=\"black\" cx=\"1319\" cy=\"-127.5\" rx=\"27\" ry=\"18\"/>\n<text text-anchor=\"middle\" x=\"1319\" y=\"-123.8\" font-family=\"Times,serif\" font-size=\"14.00\">tanh</text>\n</g>\n<!-- 4376838864&#45;&gt;4376841424tanh -->\n<g id=\"edge12\" class=\"edge\">\n<title>4376838864&#45;&gt;4376841424tanh</title>\n<path fill=\"none\" stroke=\"black\" d=\"M1255.57,-127.5C1264.21,-127.5 1272.6,-127.5 1280.28,-127.5\"/>\n<polygon fill=\"black\" stroke=\"black\" points=\"1280.19,-131 1290.19,-127.5 1280.19,-124 1280.19,-131\"/>\n</g>\n<!-- 4376838864+ -->\n<g id=\"node4\" class=\"node\">\n<title>4376838864+</title>\n<ellipse fill=\"none\" stroke=\"black\" cx=\"1008\" cy=\"-127.5\" rx=\"27\" ry=\"18\"/>\n<text text-anchor=\"middle\" x=\"1008\" y=\"-123.8\" font-family=\"Times,serif\" font-size=\"14.00\">+</text>\n</g>\n<!-- 4376838864+&#45;&gt;4376838864 -->\n<g id=\"edge2\" class=\"edge\">\n<title>4376838864+&#45;&gt;4376838864</title>\n<path fill=\"none\" stroke=\"black\" d=\"M1035.39,-127.5C1042.62,-127.5 1050.92,-127.5 1059.74,-127.5\"/>\n<polygon fill=\"black\" stroke=\"black\" points=\"1059.64,-131 1069.64,-127.5 1059.64,-124 1059.64,-131\"/>\n</g>\n<!-- 4376841424 -->\n<g id=\"node5\" class=\"node\">\n<title>4376841424</title>\n<polygon fill=\"none\" stroke=\"black\" points=\"1382,-109.5 1382,-145.5 1567,-145.5 1567,-109.5 1382,-109.5\"/>\n<text text-anchor=\"middle\" x=\"1393.5\" y=\"-123.8\" font-family=\"Times,serif\" font-size=\"14.00\">o</text>\n<polyline fill=\"none\" stroke=\"black\" points=\"1405,-109.5 1405,-145.5\"/>\n<text text-anchor=\"middle\" x=\"1445\" y=\"-123.8\" font-family=\"Times,serif\" font-size=\"14.00\">data 0.6044</text>\n<polyline fill=\"none\" stroke=\"black\" points=\"1485,-109.5 1485,-145.5\"/>\n<text text-anchor=\"middle\" x=\"1526\" y=\"-123.8\" font-family=\"Times,serif\" font-size=\"14.00\">grad 1.0000</text>\n</g>\n<!-- 4376841424tanh&#45;&gt;4376841424 -->\n<g id=\"edge3\" class=\"edge\">\n<title>4376841424tanh&#45;&gt;4376841424</title>\n<path fill=\"none\" stroke=\"black\" d=\"M1346.39,-127.5C1353.62,-127.5 1361.92,-127.5 1370.74,-127.5\"/>\n<polygon fill=\"black\" stroke=\"black\" points=\"1370.64,-131 1380.64,-127.5 1370.64,-124 1370.64,-131\"/>\n</g>\n<!-- 4376839376 -->\n<g id=\"node7\" class=\"node\">\n<title>4376839376</title>\n<polygon fill=\"none\" stroke=\"black\" points=\"328.5,-110.5 328.5,-146.5 543.5,-146.5 543.5,-110.5 328.5,-110.5\"/>\n<text text-anchor=\"middle\" x=\"355\" y=\"-124.8\" font-family=\"Times,serif\" font-size=\"14.00\">x2*w2</text>\n<polyline fill=\"none\" stroke=\"black\" points=\"381.5,-110.5 381.5,-146.5\"/>\n<text text-anchor=\"middle\" x=\"421.5\" y=\"-124.8\" font-family=\"Times,serif\" font-size=\"14.00\">data 0.0000</text>\n<polyline fill=\"none\" stroke=\"black\" points=\"461.5,-110.5 461.5,-146.5\"/>\n<text text-anchor=\"middle\" x=\"502.5\" y=\"-124.8\" font-family=\"Times,serif\" font-size=\"14.00\">grad 0.6347</text>\n</g>\n<!-- 4376839376&#45;&gt;4376842064+ -->\n<g id=\"edge6\" class=\"edge\">\n<title>4376839376&#45;&gt;4376842064+</title>\n<path fill=\"none\" stroke=\"black\" d=\"M543.35,-111.09C553.14,-109.48 562.54,-107.94 570.99,-106.56\"/>\n<polygon fill=\"black\" stroke=\"black\" points=\"571.46,-110.03 580.76,-104.96 570.33,-103.12 571.46,-110.03\"/>\n</g>\n<!-- 4376839376* -->\n<g id=\"node8\" class=\"node\">\n<title>4376839376*</title>\n<ellipse fill=\"none\" stroke=\"black\" cx=\"263\" cy=\"-128.5\" rx=\"27\" ry=\"18\"/>\n<text text-anchor=\"middle\" x=\"263\" y=\"-124.8\" font-family=\"Times,serif\" font-size=\"14.00\">*</text>\n</g>\n<!-- 4376839376*&#45;&gt;4376839376 -->\n<g id=\"edge4\" class=\"edge\">\n<title>4376839376*&#45;&gt;4376839376</title>\n<path fill=\"none\" stroke=\"black\" d=\"M290.34,-128.5C298.24,-128.5 307.46,-128.5 317.34,-128.5\"/>\n<polygon fill=\"black\" stroke=\"black\" points=\"317.24,-132 327.24,-128.5 317.24,-125 317.24,-132\"/>\n</g>\n<!-- 4376842960 -->\n<g id=\"node9\" class=\"node\">\n<title>4376842960</title>\n<polygon fill=\"none\" stroke=\"black\" points=\"4,-165.5 4,-201.5 196,-201.5 196,-165.5 4,-165.5\"/>\n<text text-anchor=\"middle\" x=\"19\" y=\"-179.8\" font-family=\"Times,serif\" font-size=\"14.00\">x2</text>\n<polyline fill=\"none\" stroke=\"black\" points=\"34,-165.5 34,-201.5\"/>\n<text text-anchor=\"middle\" x=\"74\" y=\"-179.8\" font-family=\"Times,serif\" font-size=\"14.00\">data 0.0000</text>\n<polyline fill=\"none\" stroke=\"black\" points=\"114,-165.5 114,-201.5\"/>\n<text text-anchor=\"middle\" x=\"155\" y=\"-179.8\" font-family=\"Times,serif\" font-size=\"14.00\">grad 0.6347</text>\n</g>\n<!-- 4376842960&#45;&gt;4376839376* -->\n<g id=\"edge14\" class=\"edge\">\n<title>4376842960&#45;&gt;4376839376*</title>\n<path fill=\"none\" stroke=\"black\" d=\"M172.27,-165.52C181.67,-162.72 191.12,-159.7 200,-156.5 210.09,-152.87 220.83,-148.29 230.48,-143.89\"/>\n<polygon fill=\"black\" stroke=\"black\" points=\"231.87,-147.11 239.45,-139.71 228.91,-140.76 231.87,-147.11\"/>\n</g>\n<!-- 4376840464 -->\n<g id=\"node10\" class=\"node\">\n<title>4376840464</title>\n<polygon fill=\"none\" stroke=\"black\" points=\"716,-137.5 716,-173.5 901,-173.5 901,-137.5 716,-137.5\"/>\n<text text-anchor=\"middle\" x=\"727.5\" y=\"-151.8\" font-family=\"Times,serif\" font-size=\"14.00\">b</text>\n<polyline fill=\"none\" stroke=\"black\" points=\"739,-137.5 739,-173.5\"/>\n<text text-anchor=\"middle\" x=\"779\" y=\"-151.8\" font-family=\"Times,serif\" font-size=\"14.00\">data 6.7000</text>\n<polyline fill=\"none\" stroke=\"black\" points=\"819,-137.5 819,-173.5\"/>\n<text text-anchor=\"middle\" x=\"860\" y=\"-151.8\" font-family=\"Times,serif\" font-size=\"14.00\">grad 0.6347</text>\n</g>\n<!-- 4376840464&#45;&gt;4376838864+ -->\n<g id=\"edge8\" class=\"edge\">\n<title>4376840464&#45;&gt;4376838864+</title>\n<path fill=\"none\" stroke=\"black\" d=\"M900.73,-142.57C925.29,-139.08 950.47,-135.51 970.15,-132.72\"/>\n<polygon fill=\"black\" stroke=\"black\" points=\"970.44,-136.22 979.85,-131.35 969.46,-129.29 970.44,-136.22\"/>\n</g>\n<!-- 4376839952 -->\n<g id=\"node11\" class=\"node\">\n<title>4376839952</title>\n<polygon fill=\"none\" stroke=\"black\" points=\"2,-55.5 2,-91.5 198,-91.5 198,-55.5 2,-55.5\"/>\n<text text-anchor=\"middle\" x=\"17\" y=\"-69.8\" font-family=\"Times,serif\" font-size=\"14.00\">x1</text>\n<polyline fill=\"none\" stroke=\"black\" points=\"32,-55.5 32,-91.5\"/>\n<text text-anchor=\"middle\" x=\"72\" y=\"-69.8\" font-family=\"Times,serif\" font-size=\"14.00\">data 2.0000</text>\n<polyline fill=\"none\" stroke=\"black\" points=\"112,-55.5 112,-91.5\"/>\n<text text-anchor=\"middle\" x=\"155\" y=\"-69.8\" font-family=\"Times,serif\" font-size=\"14.00\">grad &#45;1.9042</text>\n</g>\n<!-- 4376839952&#45;&gt;4376842384* -->\n<g id=\"edge9\" class=\"edge\">\n<title>4376839952&#45;&gt;4376842384*</title>\n<path fill=\"none\" stroke=\"black\" d=\"M197.91,-73.5C207.21,-73.5 216.21,-73.5 224.38,-73.5\"/>\n<polygon fill=\"black\" stroke=\"black\" points=\"224.18,-77 234.18,-73.5 224.18,-70 224.18,-77\"/>\n</g>\n<!-- 4376842064 -->\n<g id=\"node12\" class=\"node\">\n<title>4376842064</title>\n<polygon fill=\"none\" stroke=\"black\" points=\"672,-82.5 672,-118.5 945,-118.5 945,-82.5 672,-82.5\"/>\n<text text-anchor=\"middle\" x=\"725\" y=\"-96.8\" font-family=\"Times,serif\" font-size=\"14.00\">x1*w1 + x2*w2</text>\n<polyline fill=\"none\" stroke=\"black\" points=\"778,-82.5 778,-118.5\"/>\n<text text-anchor=\"middle\" x=\"820.5\" y=\"-96.8\" font-family=\"Times,serif\" font-size=\"14.00\">data &#45;6.0000</text>\n<polyline fill=\"none\" stroke=\"black\" points=\"863,-82.5 863,-118.5\"/>\n<text text-anchor=\"middle\" x=\"904\" y=\"-96.8\" font-family=\"Times,serif\" font-size=\"14.00\">grad 0.6347</text>\n</g>\n<!-- 4376842064&#45;&gt;4376838864+ -->\n<g id=\"edge7\" class=\"edge\">\n<title>4376842064&#45;&gt;4376838864+</title>\n<path fill=\"none\" stroke=\"black\" d=\"M940.96,-118.47C951.31,-119.89 961.12,-121.23 969.85,-122.42\"/>\n<polygon fill=\"black\" stroke=\"black\" points=\"969.17,-125.86 979.56,-123.75 970.12,-118.93 969.17,-125.86\"/>\n</g>\n<!-- 4376842064+&#45;&gt;4376842064 -->\n<g id=\"edge5\" class=\"edge\">\n<title>4376842064+&#45;&gt;4376842064</title>\n<path fill=\"none\" stroke=\"black\" d=\"M636.23,-100.5C643.46,-100.5 651.86,-100.5 660.97,-100.5\"/>\n<polygon fill=\"black\" stroke=\"black\" points=\"660.89,-104 670.89,-100.5 660.89,-97 660.89,-104\"/>\n</g>\n<!-- 4376843152 -->\n<g id=\"node14\" class=\"node\">\n<title>4376843152</title>\n<polygon fill=\"none\" stroke=\"black\" points=\"2.5,-110.5 2.5,-146.5 197.5,-146.5 197.5,-110.5 2.5,-110.5\"/>\n<text text-anchor=\"middle\" x=\"19\" y=\"-124.8\" font-family=\"Times,serif\" font-size=\"14.00\">w2</text>\n<polyline fill=\"none\" stroke=\"black\" points=\"35.5,-110.5 35.5,-146.5\"/>\n<text text-anchor=\"middle\" x=\"75.5\" y=\"-124.8\" font-family=\"Times,serif\" font-size=\"14.00\">data 1.0000</text>\n<polyline fill=\"none\" stroke=\"black\" points=\"115.5,-110.5 115.5,-146.5\"/>\n<text text-anchor=\"middle\" x=\"156.5\" y=\"-124.8\" font-family=\"Times,serif\" font-size=\"14.00\">grad 0.0000</text>\n</g>\n<!-- 4376843152&#45;&gt;4376839376* -->\n<g id=\"edge13\" class=\"edge\">\n<title>4376843152&#45;&gt;4376839376*</title>\n<path fill=\"none\" stroke=\"black\" d=\"M197.44,-128.5C206.89,-128.5 216.04,-128.5 224.32,-128.5\"/>\n<polygon fill=\"black\" stroke=\"black\" points=\"224.28,-132 234.28,-128.5 224.28,-125 224.28,-132\"/>\n</g>\n<!-- 4376838608 -->\n<g id=\"node15\" class=\"node\">\n<title>4376838608</title>\n<polygon fill=\"none\" stroke=\"black\" points=\"0,-0.5 0,-36.5 200,-36.5 200,-0.5 0,-0.5\"/>\n<text text-anchor=\"middle\" x=\"16.5\" y=\"-14.8\" font-family=\"Times,serif\" font-size=\"14.00\">w1</text>\n<polyline fill=\"none\" stroke=\"black\" points=\"33,-0.5 33,-36.5\"/>\n<text text-anchor=\"middle\" x=\"75.5\" y=\"-14.8\" font-family=\"Times,serif\" font-size=\"14.00\">data &#45;3.0000</text>\n<polyline fill=\"none\" stroke=\"black\" points=\"118,-0.5 118,-36.5\"/>\n<text text-anchor=\"middle\" x=\"159\" y=\"-14.8\" font-family=\"Times,serif\" font-size=\"14.00\">grad 1.2695</text>\n</g>\n<!-- 4376838608&#45;&gt;4376842384* -->\n<g id=\"edge11\" class=\"edge\">\n<title>4376838608&#45;&gt;4376842384*</title>\n<path fill=\"none\" stroke=\"black\" d=\"M169.02,-36.42C179.47,-39.56 190.08,-42.95 200,-46.5 209.96,-50.06 220.59,-54.46 230.18,-58.66\"/>\n<polygon fill=\"black\" stroke=\"black\" points=\"228.54,-61.76 239.1,-62.66 231.4,-55.37 228.54,-61.76\"/>\n</g>\n</g>\n</svg>\n",
      "text/plain": "<graphviz.graphs.Digraph at 0x104e15250>"
     },
     "execution_count": 79,
     "metadata": {},
     "output_type": "execute_result"
    }
   ],
   "source": [
    "x1 = Value(2.0, label='x1')\n",
    "x2 = Value(0.0, label='x2')\n",
    "w1 = Value(-3.0, label='w1')\n",
    "w2 = Value(1.0, label='w2')\n",
    "\n",
    "b = Value(6.7, label='b')\n",
    "x1w1 = x1 * w1;\n",
    "x1w1.label = 'x1*w1'\n",
    "x2w2 = x2 * w2;\n",
    "x2w2.label = 'x2*w2'\n",
    "x1w1x2w2 = x1w1 + x2w2;\n",
    "x1w1x2w2.label = 'x1*w1 + x2*w2'\n",
    "n = x1w1x2w2 + b;\n",
    "n.label = 'n'\n",
    "o = n.tanh();\n",
    "o.label = 'o'\n",
    "o.backward()\n",
    "draw_dot(o)\n"
   ],
   "metadata": {
    "collapsed": false
   }
  },
  {
   "cell_type": "code",
   "execution_count": 80,
   "outputs": [
    {
     "data": {
      "image/svg+xml": "<?xml version=\"1.0\" encoding=\"UTF-8\" standalone=\"no\"?>\n<!DOCTYPE svg PUBLIC \"-//W3C//DTD SVG 1.1//EN\"\n \"http://www.w3.org/Graphics/SVG/1.1/DTD/svg11.dtd\">\n<!-- Generated by graphviz version 7.1.0 (20230121.1956)\n -->\n<!-- Pages: 1 -->\n<svg width=\"3054pt\" height=\"210pt\"\n viewBox=\"0.00 0.00 3054.00 210.00\" xmlns=\"http://www.w3.org/2000/svg\" xmlns:xlink=\"http://www.w3.org/1999/xlink\">\n<g id=\"graph0\" class=\"graph\" transform=\"scale(1 1) rotate(0) translate(4 206)\">\n<polygon fill=\"white\" stroke=\"none\" points=\"-4,4 -4,-206 3050,-206 3050,4 -4,4\"/>\n<!-- 4382713872 -->\n<g id=\"node1\" class=\"node\">\n<title>4382713872</title>\n<polygon fill=\"none\" stroke=\"black\" points=\"1132,-54.5 1132,-90.5 1335,-90.5 1335,-54.5 1132,-54.5\"/>\n<text text-anchor=\"middle\" x=\"1143.5\" y=\"-68.8\" font-family=\"Times,serif\" font-size=\"14.00\">n</text>\n<polyline fill=\"none\" stroke=\"black\" points=\"1155,-54.5 1155,-90.5\"/>\n<text text-anchor=\"middle\" x=\"1195\" y=\"-68.8\" font-family=\"Times,serif\" font-size=\"14.00\">data 0.7000</text>\n<polyline fill=\"none\" stroke=\"black\" points=\"1235,-54.5 1235,-90.5\"/>\n<text text-anchor=\"middle\" x=\"1285\" y=\"-68.8\" font-family=\"Times,serif\" font-size=\"14.00\">grad &#45;631.6214</text>\n</g>\n<!-- 4382716688* -->\n<g id=\"node19\" class=\"node\">\n<title>4382716688*</title>\n<ellipse fill=\"none\" stroke=\"black\" cx=\"1398\" cy=\"-99.5\" rx=\"27\" ry=\"18\"/>\n<text text-anchor=\"middle\" x=\"1398\" y=\"-95.8\" font-family=\"Times,serif\" font-size=\"14.00\">*</text>\n</g>\n<!-- 4382713872&#45;&gt;4382716688* -->\n<g id=\"edge28\" class=\"edge\">\n<title>4382713872&#45;&gt;4382716688*</title>\n<path fill=\"none\" stroke=\"black\" d=\"M1334.64,-89.14C1343.66,-90.64 1352.35,-92.08 1360.24,-93.39\"/>\n<polygon fill=\"black\" stroke=\"black\" points=\"1359.59,-96.83 1370.03,-95.02 1360.74,-89.93 1359.59,-96.83\"/>\n</g>\n<!-- 4382713872+ -->\n<g id=\"node2\" class=\"node\">\n<title>4382713872+</title>\n<ellipse fill=\"none\" stroke=\"black\" cx=\"1069\" cy=\"-72.5\" rx=\"27\" ry=\"18\"/>\n<text text-anchor=\"middle\" x=\"1069\" y=\"-68.8\" font-family=\"Times,serif\" font-size=\"14.00\">+</text>\n</g>\n<!-- 4382713872+&#45;&gt;4382713872 -->\n<g id=\"edge1\" class=\"edge\">\n<title>4382713872+&#45;&gt;4382713872</title>\n<path fill=\"none\" stroke=\"black\" d=\"M1096.47,-72.5C1103.68,-72.5 1111.96,-72.5 1120.81,-72.5\"/>\n<polygon fill=\"black\" stroke=\"black\" points=\"1120.77,-76 1130.77,-72.5 1120.77,-69 1120.77,-76\"/>\n</g>\n<!-- 4382715920 -->\n<g id=\"node3\" class=\"node\">\n<title>4382715920</title>\n<polygon fill=\"none\" stroke=\"black\" points=\"1133.5,-109.5 1133.5,-145.5 1333.5,-145.5 1333.5,-109.5 1133.5,-109.5\"/>\n<text text-anchor=\"middle\" x=\"1143.5\" y=\"-123.8\" font-family=\"Times,serif\" font-size=\"14.00\"> </text>\n<polyline fill=\"none\" stroke=\"black\" points=\"1153.5,-109.5 1153.5,-145.5\"/>\n<text text-anchor=\"middle\" x=\"1193.5\" y=\"-123.8\" font-family=\"Times,serif\" font-size=\"14.00\">data 2.0000</text>\n<polyline fill=\"none\" stroke=\"black\" points=\"1233.5,-109.5 1233.5,-145.5\"/>\n<text text-anchor=\"middle\" x=\"1283.5\" y=\"-123.8\" font-family=\"Times,serif\" font-size=\"14.00\">grad &#45;221.0675</text>\n</g>\n<!-- 4382715920&#45;&gt;4382716688* -->\n<g id=\"edge18\" class=\"edge\">\n<title>4382715920&#45;&gt;4382716688*</title>\n<path fill=\"none\" stroke=\"black\" d=\"M1333.24,-110.49C1342.82,-108.84 1352.05,-107.24 1360.38,-105.81\"/>\n<polygon fill=\"black\" stroke=\"black\" points=\"1360.74,-109.3 1370,-104.15 1359.55,-102.4 1360.74,-109.3\"/>\n</g>\n<!-- 4382709712 -->\n<g id=\"node4\" class=\"node\">\n<title>4382709712</title>\n<polygon fill=\"none\" stroke=\"black\" points=\"2335,-53.5 2335,-89.5 2517,-89.5 2517,-53.5 2335,-53.5\"/>\n<text text-anchor=\"middle\" x=\"2345\" y=\"-67.8\" font-family=\"Times,serif\" font-size=\"14.00\"> </text>\n<polyline fill=\"none\" stroke=\"black\" points=\"2355,-53.5 2355,-89.5\"/>\n<text text-anchor=\"middle\" x=\"2395\" y=\"-67.8\" font-family=\"Times,serif\" font-size=\"14.00\">data 3.0552</text>\n<polyline fill=\"none\" stroke=\"black\" points=\"2435,-53.5 2435,-89.5\"/>\n<text text-anchor=\"middle\" x=\"2476\" y=\"-67.8\" font-family=\"Times,serif\" font-size=\"14.00\">grad 0.1978</text>\n</g>\n<!-- 4382712272* -->\n<g id=\"node28\" class=\"node\">\n<title>4382712272*</title>\n<ellipse fill=\"none\" stroke=\"black\" cx=\"2798\" cy=\"-98.5\" rx=\"27\" ry=\"18\"/>\n<text text-anchor=\"middle\" x=\"2798\" y=\"-94.8\" font-family=\"Times,serif\" font-size=\"14.00\">*</text>\n</g>\n<!-- 4382709712&#45;&gt;4382712272* -->\n<g id=\"edge21\" class=\"edge\">\n<title>4382709712&#45;&gt;4382712272*</title>\n<path fill=\"none\" stroke=\"black\" d=\"M2516.57,-78.04C2594.44,-83.72 2703.37,-91.67 2759.81,-95.79\"/>\n<polygon fill=\"black\" stroke=\"black\" points=\"2759.29,-99.26 2769.52,-96.49 2759.8,-92.28 2759.29,-99.26\"/>\n</g>\n<!-- 4382709712+ -->\n<g id=\"node5\" class=\"node\">\n<title>4382709712+</title>\n<ellipse fill=\"none\" stroke=\"black\" cx=\"2043\" cy=\"-71.5\" rx=\"27\" ry=\"18\"/>\n<text text-anchor=\"middle\" x=\"2043\" y=\"-67.8\" font-family=\"Times,serif\" font-size=\"14.00\">+</text>\n</g>\n<!-- 4382709712+&#45;&gt;4382709712 -->\n<g id=\"edge2\" class=\"edge\">\n<title>4382709712+&#45;&gt;4382709712</title>\n<path fill=\"none\" stroke=\"black\" d=\"M2070.49,-71.5C2122.09,-71.5 2238.5,-71.5 2323.9,-71.5\"/>\n<polygon fill=\"black\" stroke=\"black\" points=\"2323.69,-75 2333.69,-71.5 2323.69,-68 2323.69,-75\"/>\n</g>\n<!-- 4382719568 -->\n<g id=\"node6\" class=\"node\">\n<title>4382719568</title>\n<polygon fill=\"none\" stroke=\"black\" points=\"2106,-108.5 2106,-144.5 2299,-144.5 2299,-108.5 2106,-108.5\"/>\n<text text-anchor=\"middle\" x=\"2116\" y=\"-122.8\" font-family=\"Times,serif\" font-size=\"14.00\"> </text>\n<polyline fill=\"none\" stroke=\"black\" points=\"2126,-108.5 2126,-144.5\"/>\n<text text-anchor=\"middle\" x=\"2166\" y=\"-122.8\" font-family=\"Times,serif\" font-size=\"14.00\">data 5.0552</text>\n<polyline fill=\"none\" stroke=\"black\" points=\"2206,-108.5 2206,-144.5\"/>\n<text text-anchor=\"middle\" x=\"2252.5\" y=\"-122.8\" font-family=\"Times,serif\" font-size=\"14.00\">grad &#45;78.0758</text>\n</g>\n<!-- 4382709072**&#45;1 -->\n<g id=\"node24\" class=\"node\">\n<title>4382709072**&#45;1</title>\n<ellipse fill=\"none\" stroke=\"black\" cx=\"2426\" cy=\"-126.5\" rx=\"27\" ry=\"18\"/>\n<text text-anchor=\"middle\" x=\"2426\" y=\"-122.8\" font-family=\"Times,serif\" font-size=\"14.00\">**&#45;1</text>\n</g>\n<!-- 4382719568&#45;&gt;4382709072**&#45;1 -->\n<g id=\"edge14\" class=\"edge\">\n<title>4382719568&#45;&gt;4382709072**&#45;1</title>\n<path fill=\"none\" stroke=\"black\" d=\"M2298.72,-126.5C2329.96,-126.5 2362.88,-126.5 2387.27,-126.5\"/>\n<polygon fill=\"black\" stroke=\"black\" points=\"2387,-130 2397,-126.5 2387,-123 2387,-130\"/>\n</g>\n<!-- 4382719568+ -->\n<g id=\"node7\" class=\"node\">\n<title>4382719568+</title>\n<ellipse fill=\"none\" stroke=\"black\" cx=\"2043\" cy=\"-126.5\" rx=\"27\" ry=\"18\"/>\n<text text-anchor=\"middle\" x=\"2043\" y=\"-122.8\" font-family=\"Times,serif\" font-size=\"14.00\">+</text>\n</g>\n<!-- 4382719568+&#45;&gt;4382719568 -->\n<g id=\"edge3\" class=\"edge\">\n<title>4382719568+&#45;&gt;4382719568</title>\n<path fill=\"none\" stroke=\"black\" d=\"M2070.36,-126.5C2077.57,-126.5 2085.84,-126.5 2094.66,-126.5\"/>\n<polygon fill=\"black\" stroke=\"black\" points=\"2094.56,-130 2104.56,-126.5 2094.56,-123 2094.56,-130\"/>\n</g>\n<!-- 4382705232 -->\n<g id=\"node8\" class=\"node\">\n<title>4382705232</title>\n<polygon fill=\"none\" stroke=\"black\" points=\"7.5,-55.5 7.5,-91.5 217.5,-91.5 217.5,-55.5 7.5,-55.5\"/>\n<text text-anchor=\"middle\" x=\"22.5\" y=\"-69.8\" font-family=\"Times,serif\" font-size=\"14.00\">x2</text>\n<polyline fill=\"none\" stroke=\"black\" points=\"37.5,-55.5 37.5,-91.5\"/>\n<text text-anchor=\"middle\" x=\"77.5\" y=\"-69.8\" font-family=\"Times,serif\" font-size=\"14.00\">data 0.0000</text>\n<polyline fill=\"none\" stroke=\"black\" points=\"117.5,-55.5 117.5,-91.5\"/>\n<text text-anchor=\"middle\" x=\"167.5\" y=\"-69.8\" font-family=\"Times,serif\" font-size=\"14.00\">grad &#45;631.6214</text>\n</g>\n<!-- 4382709392* -->\n<g id=\"node12\" class=\"node\">\n<title>4382709392*</title>\n<ellipse fill=\"none\" stroke=\"black\" cx=\"288\" cy=\"-73.5\" rx=\"27\" ry=\"18\"/>\n<text text-anchor=\"middle\" x=\"288\" y=\"-69.8\" font-family=\"Times,serif\" font-size=\"14.00\">*</text>\n</g>\n<!-- 4382705232&#45;&gt;4382709392* -->\n<g id=\"edge17\" class=\"edge\">\n<title>4382705232&#45;&gt;4382709392*</title>\n<path fill=\"none\" stroke=\"black\" d=\"M217.43,-73.5C228.82,-73.5 239.8,-73.5 249.54,-73.5\"/>\n<polygon fill=\"black\" stroke=\"black\" points=\"249.23,-77 259.23,-73.5 249.23,-70 249.23,-77\"/>\n</g>\n<!-- 4382717520 -->\n<g id=\"node9\" class=\"node\">\n<title>4382717520</title>\n<polygon fill=\"none\" stroke=\"black\" points=\"351,-110.5 351,-146.5 589,-146.5 589,-110.5 351,-110.5\"/>\n<text text-anchor=\"middle\" x=\"377.5\" y=\"-124.8\" font-family=\"Times,serif\" font-size=\"14.00\">x1*w1</text>\n<polyline fill=\"none\" stroke=\"black\" points=\"404,-110.5 404,-146.5\"/>\n<text text-anchor=\"middle\" x=\"446.5\" y=\"-124.8\" font-family=\"Times,serif\" font-size=\"14.00\">data &#45;6.0000</text>\n<polyline fill=\"none\" stroke=\"black\" points=\"489,-110.5 489,-146.5\"/>\n<text text-anchor=\"middle\" x=\"539\" y=\"-124.8\" font-family=\"Times,serif\" font-size=\"14.00\">grad &#45;631.6214</text>\n</g>\n<!-- 4382709968+ -->\n<g id=\"node16\" class=\"node\">\n<title>4382709968+</title>\n<ellipse fill=\"none\" stroke=\"black\" cx=\"652\" cy=\"-100.5\" rx=\"27\" ry=\"18\"/>\n<text text-anchor=\"middle\" x=\"652\" y=\"-96.8\" font-family=\"Times,serif\" font-size=\"14.00\">+</text>\n</g>\n<!-- 4382717520&#45;&gt;4382709968+ -->\n<g id=\"edge19\" class=\"edge\">\n<title>4382717520&#45;&gt;4382709968+</title>\n<path fill=\"none\" stroke=\"black\" d=\"M586.52,-110.53C596.3,-109.01 605.63,-107.56 614.01,-106.25\"/>\n<polygon fill=\"black\" stroke=\"black\" points=\"614.33,-109.75 623.68,-104.75 613.26,-102.83 614.33,-109.75\"/>\n</g>\n<!-- 4382717520* -->\n<g id=\"node10\" class=\"node\">\n<title>4382717520*</title>\n<ellipse fill=\"none\" stroke=\"black\" cx=\"288\" cy=\"-128.5\" rx=\"27\" ry=\"18\"/>\n<text text-anchor=\"middle\" x=\"288\" y=\"-124.8\" font-family=\"Times,serif\" font-size=\"14.00\">*</text>\n</g>\n<!-- 4382717520*&#45;&gt;4382717520 -->\n<g id=\"edge4\" class=\"edge\">\n<title>4382717520*&#45;&gt;4382717520</title>\n<path fill=\"none\" stroke=\"black\" d=\"M315.17,-128.5C322.45,-128.5 330.88,-128.5 339.96,-128.5\"/>\n<polygon fill=\"black\" stroke=\"black\" points=\"339.82,-132 349.82,-128.5 339.82,-125 339.82,-132\"/>\n</g>\n<!-- 4382709392 -->\n<g id=\"node11\" class=\"node\">\n<title>4382709392</title>\n<polygon fill=\"none\" stroke=\"black\" points=\"353.5,-55.5 353.5,-91.5 586.5,-91.5 586.5,-55.5 353.5,-55.5\"/>\n<text text-anchor=\"middle\" x=\"380\" y=\"-69.8\" font-family=\"Times,serif\" font-size=\"14.00\">x2*w2</text>\n<polyline fill=\"none\" stroke=\"black\" points=\"406.5,-55.5 406.5,-91.5\"/>\n<text text-anchor=\"middle\" x=\"446.5\" y=\"-69.8\" font-family=\"Times,serif\" font-size=\"14.00\">data 0.0000</text>\n<polyline fill=\"none\" stroke=\"black\" points=\"486.5,-55.5 486.5,-91.5\"/>\n<text text-anchor=\"middle\" x=\"536.5\" y=\"-69.8\" font-family=\"Times,serif\" font-size=\"14.00\">grad &#45;631.6214</text>\n</g>\n<!-- 4382709392&#45;&gt;4382709968+ -->\n<g id=\"edge23\" class=\"edge\">\n<title>4382709392&#45;&gt;4382709968+</title>\n<path fill=\"none\" stroke=\"black\" d=\"M586.27,-90.79C596.17,-92.28 605.62,-93.69 614.1,-94.96\"/>\n<polygon fill=\"black\" stroke=\"black\" points=\"613.46,-98.41 623.87,-96.43 614.5,-91.49 613.46,-98.41\"/>\n</g>\n<!-- 4382709392*&#45;&gt;4382709392 -->\n<g id=\"edge5\" class=\"edge\">\n<title>4382709392*&#45;&gt;4382709392</title>\n<path fill=\"none\" stroke=\"black\" d=\"M315.17,-73.5C323.04,-73.5 332.24,-73.5 342.17,-73.5\"/>\n<polygon fill=\"black\" stroke=\"black\" points=\"342.13,-77 352.13,-73.5 342.13,-70 342.13,-77\"/>\n</g>\n<!-- 4382709456 -->\n<g id=\"node13\" class=\"node\">\n<title>4382709456</title>\n<polygon fill=\"none\" stroke=\"black\" points=\"1787,-81.5 1787,-117.5 1980,-117.5 1980,-81.5 1787,-81.5\"/>\n<text text-anchor=\"middle\" x=\"1797\" y=\"-95.8\" font-family=\"Times,serif\" font-size=\"14.00\"> </text>\n<polyline fill=\"none\" stroke=\"black\" points=\"1807,-81.5 1807,-117.5\"/>\n<text text-anchor=\"middle\" x=\"1847\" y=\"-95.8\" font-family=\"Times,serif\" font-size=\"14.00\">data 4.0552</text>\n<polyline fill=\"none\" stroke=\"black\" points=\"1887,-81.5 1887,-117.5\"/>\n<text text-anchor=\"middle\" x=\"1933.5\" y=\"-95.8\" font-family=\"Times,serif\" font-size=\"14.00\">grad &#45;77.8780</text>\n</g>\n<!-- 4382709456&#45;&gt;4382709712+ -->\n<g id=\"edge22\" class=\"edge\">\n<title>4382709456&#45;&gt;4382709712+</title>\n<path fill=\"none\" stroke=\"black\" d=\"M1979.75,-82.57C1988.7,-80.98 1997.35,-79.44 2005.21,-78.04\"/>\n<polygon fill=\"black\" stroke=\"black\" points=\"2005.75,-81.5 2014.99,-76.3 2004.53,-74.61 2005.75,-81.5\"/>\n</g>\n<!-- 4382709456&#45;&gt;4382719568+ -->\n<g id=\"edge12\" class=\"edge\">\n<title>4382709456&#45;&gt;4382719568+</title>\n<path fill=\"none\" stroke=\"black\" d=\"M1979.75,-115.83C1988.7,-117.36 1997.35,-118.85 2005.21,-120.19\"/>\n<polygon fill=\"black\" stroke=\"black\" points=\"2004.54,-123.63 2014.98,-121.87 2005.72,-116.73 2004.54,-123.63\"/>\n</g>\n<!-- 4382709456exp -->\n<g id=\"node14\" class=\"node\">\n<title>4382709456exp</title>\n<ellipse fill=\"none\" stroke=\"black\" cx=\"1724\" cy=\"-99.5\" rx=\"27\" ry=\"18\"/>\n<text text-anchor=\"middle\" x=\"1724\" y=\"-95.8\" font-family=\"Times,serif\" font-size=\"14.00\">exp</text>\n</g>\n<!-- 4382709456exp&#45;&gt;4382709456 -->\n<g id=\"edge6\" class=\"edge\">\n<title>4382709456exp&#45;&gt;4382709456</title>\n<path fill=\"none\" stroke=\"black\" d=\"M1751.36,-99.5C1758.57,-99.5 1766.84,-99.5 1775.66,-99.5\"/>\n<polygon fill=\"black\" stroke=\"black\" points=\"1775.56,-103 1785.56,-99.5 1775.56,-96 1775.56,-103\"/>\n</g>\n<!-- 4382709968 -->\n<g id=\"node15\" class=\"node\">\n<title>4382709968</title>\n<polygon fill=\"none\" stroke=\"black\" points=\"715,-82.5 715,-118.5 1006,-118.5 1006,-82.5 715,-82.5\"/>\n<text text-anchor=\"middle\" x=\"768\" y=\"-96.8\" font-family=\"Times,serif\" font-size=\"14.00\">x1*w1 + x2*w2</text>\n<polyline fill=\"none\" stroke=\"black\" points=\"821,-82.5 821,-118.5\"/>\n<text text-anchor=\"middle\" x=\"863.5\" y=\"-96.8\" font-family=\"Times,serif\" font-size=\"14.00\">data &#45;6.0000</text>\n<polyline fill=\"none\" stroke=\"black\" points=\"906,-82.5 906,-118.5\"/>\n<text text-anchor=\"middle\" x=\"956\" y=\"-96.8\" font-family=\"Times,serif\" font-size=\"14.00\">grad &#45;631.6214</text>\n</g>\n<!-- 4382709968&#45;&gt;4382713872+ -->\n<g id=\"edge15\" class=\"edge\">\n<title>4382709968&#45;&gt;4382713872+</title>\n<path fill=\"none\" stroke=\"black\" d=\"M994.03,-82.53C1007.41,-80.72 1020.08,-79 1031.03,-77.51\"/>\n<polygon fill=\"black\" stroke=\"black\" points=\"1031.24,-81.02 1040.68,-76.2 1030.3,-74.08 1031.24,-81.02\"/>\n</g>\n<!-- 4382709968+&#45;&gt;4382709968 -->\n<g id=\"edge7\" class=\"edge\">\n<title>4382709968+&#45;&gt;4382709968</title>\n<path fill=\"none\" stroke=\"black\" d=\"M679.15,-100.5C686.33,-100.5 694.66,-100.5 703.72,-100.5\"/>\n<polygon fill=\"black\" stroke=\"black\" points=\"703.61,-104 713.61,-100.5 703.61,-97 703.61,-104\"/>\n</g>\n<!-- 4382718672 -->\n<g id=\"node17\" class=\"node\">\n<title>4382718672</title>\n<polygon fill=\"none\" stroke=\"black\" points=\"1787,-136.5 1787,-172.5 1980,-172.5 1980,-136.5 1787,-136.5\"/>\n<text text-anchor=\"middle\" x=\"1797\" y=\"-150.8\" font-family=\"Times,serif\" font-size=\"14.00\"> </text>\n<polyline fill=\"none\" stroke=\"black\" points=\"1807,-136.5 1807,-172.5\"/>\n<text text-anchor=\"middle\" x=\"1847\" y=\"-150.8\" font-family=\"Times,serif\" font-size=\"14.00\">data 1.0000</text>\n<polyline fill=\"none\" stroke=\"black\" points=\"1887,-136.5 1887,-172.5\"/>\n<text text-anchor=\"middle\" x=\"1933.5\" y=\"-150.8\" font-family=\"Times,serif\" font-size=\"14.00\">grad &#45;78.0758</text>\n</g>\n<!-- 4382718672&#45;&gt;4382719568+ -->\n<g id=\"edge25\" class=\"edge\">\n<title>4382718672&#45;&gt;4382719568+</title>\n<path fill=\"none\" stroke=\"black\" d=\"M1979.75,-137.57C1988.7,-135.98 1997.35,-134.44 2005.21,-133.04\"/>\n<polygon fill=\"black\" stroke=\"black\" points=\"2005.75,-136.5 2014.99,-131.3 2004.53,-129.61 2005.75,-136.5\"/>\n</g>\n<!-- 4382716688 -->\n<g id=\"node18\" class=\"node\">\n<title>4382716688</title>\n<polygon fill=\"none\" stroke=\"black\" points=\"1461,-81.5 1461,-117.5 1661,-117.5 1661,-81.5 1461,-81.5\"/>\n<text text-anchor=\"middle\" x=\"1471\" y=\"-95.8\" font-family=\"Times,serif\" font-size=\"14.00\"> </text>\n<polyline fill=\"none\" stroke=\"black\" points=\"1481,-81.5 1481,-117.5\"/>\n<text text-anchor=\"middle\" x=\"1521\" y=\"-95.8\" font-family=\"Times,serif\" font-size=\"14.00\">data 1.4000</text>\n<polyline fill=\"none\" stroke=\"black\" points=\"1561,-81.5 1561,-117.5\"/>\n<text text-anchor=\"middle\" x=\"1611\" y=\"-95.8\" font-family=\"Times,serif\" font-size=\"14.00\">grad &#45;315.8107</text>\n</g>\n<!-- 4382716688&#45;&gt;4382709456exp -->\n<g id=\"edge24\" class=\"edge\">\n<title>4382716688&#45;&gt;4382709456exp</title>\n<path fill=\"none\" stroke=\"black\" d=\"M1660.75,-99.5C1669.38,-99.5 1677.71,-99.5 1685.33,-99.5\"/>\n<polygon fill=\"black\" stroke=\"black\" points=\"1685.12,-103 1695.12,-99.5 1685.12,-96 1685.12,-103\"/>\n</g>\n<!-- 4382716688*&#45;&gt;4382716688 -->\n<g id=\"edge8\" class=\"edge\">\n<title>4382716688*&#45;&gt;4382716688</title>\n<path fill=\"none\" stroke=\"black\" d=\"M1425.23,-99.5C1432.43,-99.5 1440.72,-99.5 1449.58,-99.5\"/>\n<polygon fill=\"black\" stroke=\"black\" points=\"1449.54,-103 1459.54,-99.5 1449.54,-96 1449.54,-103\"/>\n</g>\n<!-- 4382714128 -->\n<g id=\"node20\" class=\"node\">\n<title>4382714128</title>\n<polygon fill=\"none\" stroke=\"black\" points=\"15,-0.5 15,-36.5 210,-36.5 210,-0.5 15,-0.5\"/>\n<text text-anchor=\"middle\" x=\"31.5\" y=\"-14.8\" font-family=\"Times,serif\" font-size=\"14.00\">w2</text>\n<polyline fill=\"none\" stroke=\"black\" points=\"48,-0.5 48,-36.5\"/>\n<text text-anchor=\"middle\" x=\"88\" y=\"-14.8\" font-family=\"Times,serif\" font-size=\"14.00\">data 1.0000</text>\n<polyline fill=\"none\" stroke=\"black\" points=\"128,-0.5 128,-36.5\"/>\n<text text-anchor=\"middle\" x=\"169\" y=\"-14.8\" font-family=\"Times,serif\" font-size=\"14.00\">grad 0.0000</text>\n</g>\n<!-- 4382714128&#45;&gt;4382709392* -->\n<g id=\"edge26\" class=\"edge\">\n<title>4382714128&#45;&gt;4382709392*</title>\n<path fill=\"none\" stroke=\"black\" d=\"M195.31,-36.45C205.39,-39.2 215.49,-42.23 225,-45.5 235.14,-48.98 245.89,-53.52 255.54,-57.92\"/>\n<polygon fill=\"black\" stroke=\"black\" points=\"253.97,-61.05 264.51,-62.13 256.94,-54.71 253.97,-61.05\"/>\n</g>\n<!-- 4382713616 -->\n<g id=\"node21\" class=\"node\">\n<title>4382713616</title>\n<polygon fill=\"none\" stroke=\"black\" points=\"0,-165.5 0,-201.5 225,-201.5 225,-165.5 0,-165.5\"/>\n<text text-anchor=\"middle\" x=\"16.5\" y=\"-179.8\" font-family=\"Times,serif\" font-size=\"14.00\">w1</text>\n<polyline fill=\"none\" stroke=\"black\" points=\"33,-165.5 33,-201.5\"/>\n<text text-anchor=\"middle\" x=\"75.5\" y=\"-179.8\" font-family=\"Times,serif\" font-size=\"14.00\">data &#45;3.0000</text>\n<polyline fill=\"none\" stroke=\"black\" points=\"118,-165.5 118,-201.5\"/>\n<text text-anchor=\"middle\" x=\"171.5\" y=\"-179.8\" font-family=\"Times,serif\" font-size=\"14.00\">grad &#45;1263.2428</text>\n</g>\n<!-- 4382713616&#45;&gt;4382717520* -->\n<g id=\"edge11\" class=\"edge\">\n<title>4382713616&#45;&gt;4382717520*</title>\n<path fill=\"none\" stroke=\"black\" d=\"M195.31,-165.55C205.39,-162.8 215.49,-159.77 225,-156.5 235.14,-153.02 245.89,-148.48 255.54,-144.08\"/>\n<polygon fill=\"black\" stroke=\"black\" points=\"256.94,-147.29 264.51,-139.87 253.97,-140.95 256.94,-147.29\"/>\n</g>\n<!-- 4376839120 -->\n<g id=\"node22\" class=\"node\">\n<title>4376839120</title>\n<polygon fill=\"none\" stroke=\"black\" points=\"6.5,-110.5 6.5,-146.5 218.5,-146.5 218.5,-110.5 6.5,-110.5\"/>\n<text text-anchor=\"middle\" x=\"21.5\" y=\"-124.8\" font-family=\"Times,serif\" font-size=\"14.00\">x1</text>\n<polyline fill=\"none\" stroke=\"black\" points=\"36.5,-110.5 36.5,-146.5\"/>\n<text text-anchor=\"middle\" x=\"76.5\" y=\"-124.8\" font-family=\"Times,serif\" font-size=\"14.00\">data 2.0000</text>\n<polyline fill=\"none\" stroke=\"black\" points=\"116.5,-110.5 116.5,-146.5\"/>\n<text text-anchor=\"middle\" x=\"167.5\" y=\"-124.8\" font-family=\"Times,serif\" font-size=\"14.00\">grad 1894.8642</text>\n</g>\n<!-- 4376839120&#45;&gt;4382717520* -->\n<g id=\"edge27\" class=\"edge\">\n<title>4376839120&#45;&gt;4382717520*</title>\n<path fill=\"none\" stroke=\"black\" d=\"M218.43,-128.5C229.37,-128.5 239.9,-128.5 249.29,-128.5\"/>\n<polygon fill=\"black\" stroke=\"black\" points=\"249.01,-132 259.01,-128.5 249.01,-125 249.01,-132\"/>\n</g>\n<!-- 4382709072 -->\n<g id=\"node23\" class=\"node\">\n<title>4382709072</title>\n<polygon fill=\"none\" stroke=\"black\" points=\"2553,-106.5 2553,-142.5 2735,-142.5 2735,-106.5 2553,-106.5\"/>\n<text text-anchor=\"middle\" x=\"2563\" y=\"-120.8\" font-family=\"Times,serif\" font-size=\"14.00\"> </text>\n<polyline fill=\"none\" stroke=\"black\" points=\"2573,-106.5 2573,-142.5\"/>\n<text text-anchor=\"middle\" x=\"2613\" y=\"-120.8\" font-family=\"Times,serif\" font-size=\"14.00\">data 0.1978</text>\n<polyline fill=\"none\" stroke=\"black\" points=\"2653,-106.5 2653,-142.5\"/>\n<text text-anchor=\"middle\" x=\"2694\" y=\"-120.8\" font-family=\"Times,serif\" font-size=\"14.00\">grad 3.0552</text>\n</g>\n<!-- 4382709072&#45;&gt;4382712272* -->\n<g id=\"edge13\" class=\"edge\">\n<title>4382709072&#45;&gt;4382712272*</title>\n<path fill=\"none\" stroke=\"black\" d=\"M2734.74,-109.15C2743.62,-107.63 2752.23,-106.16 2760.09,-104.81\"/>\n<polygon fill=\"black\" stroke=\"black\" points=\"2760.6,-108.28 2769.86,-103.14 2759.42,-101.38 2760.6,-108.28\"/>\n</g>\n<!-- 4382709072**&#45;1&#45;&gt;4382709072 -->\n<g id=\"edge9\" class=\"edge\">\n<title>4382709072**&#45;1&#45;&gt;4382709072</title>\n<path fill=\"none\" stroke=\"black\" d=\"M2453.49,-126.25C2475.76,-126.05 2509.08,-125.74 2541.61,-125.44\"/>\n<polygon fill=\"black\" stroke=\"black\" points=\"2541.58,-128.94 2551.54,-125.35 2541.51,-121.94 2541.58,-128.94\"/>\n</g>\n<!-- 4382704912 -->\n<g id=\"node25\" class=\"node\">\n<title>4382704912</title>\n<polygon fill=\"none\" stroke=\"black\" points=\"1790,-26.5 1790,-62.5 1977,-62.5 1977,-26.5 1790,-26.5\"/>\n<text text-anchor=\"middle\" x=\"1800\" y=\"-40.8\" font-family=\"Times,serif\" font-size=\"14.00\"> </text>\n<polyline fill=\"none\" stroke=\"black\" points=\"1810,-26.5 1810,-62.5\"/>\n<text text-anchor=\"middle\" x=\"1852.5\" y=\"-40.8\" font-family=\"Times,serif\" font-size=\"14.00\">data &#45;1.0000</text>\n<polyline fill=\"none\" stroke=\"black\" points=\"1895,-26.5 1895,-62.5\"/>\n<text text-anchor=\"middle\" x=\"1936\" y=\"-40.8\" font-family=\"Times,serif\" font-size=\"14.00\">grad 0.1978</text>\n</g>\n<!-- 4382704912&#45;&gt;4382709712+ -->\n<g id=\"edge16\" class=\"edge\">\n<title>4382704912&#45;&gt;4382709712+</title>\n<path fill=\"none\" stroke=\"black\" d=\"M1976.57,-60.28C1986.66,-62.01 1996.45,-63.69 2005.25,-65.2\"/>\n<polygon fill=\"black\" stroke=\"black\" points=\"2004.63,-68.65 2015.08,-66.89 2005.82,-61.75 2004.63,-68.65\"/>\n</g>\n<!-- 4382711184 -->\n<g id=\"node26\" class=\"node\">\n<title>4382711184</title>\n<polygon fill=\"none\" stroke=\"black\" points=\"759,-27.5 759,-63.5 962,-63.5 962,-27.5 759,-27.5\"/>\n<text text-anchor=\"middle\" x=\"770.5\" y=\"-41.8\" font-family=\"Times,serif\" font-size=\"14.00\">b</text>\n<polyline fill=\"none\" stroke=\"black\" points=\"782,-27.5 782,-63.5\"/>\n<text text-anchor=\"middle\" x=\"822\" y=\"-41.8\" font-family=\"Times,serif\" font-size=\"14.00\">data 6.7000</text>\n<polyline fill=\"none\" stroke=\"black\" points=\"862,-27.5 862,-63.5\"/>\n<text text-anchor=\"middle\" x=\"912\" y=\"-41.8\" font-family=\"Times,serif\" font-size=\"14.00\">grad &#45;631.6214</text>\n</g>\n<!-- 4382711184&#45;&gt;4382713872+ -->\n<g id=\"edge20\" class=\"edge\">\n<title>4382711184&#45;&gt;4382713872+</title>\n<path fill=\"none\" stroke=\"black\" d=\"M961.73,-58.6C986.4,-61.83 1011.31,-65.09 1030.81,-67.64\"/>\n<polygon fill=\"black\" stroke=\"black\" points=\"1030.32,-71.1 1040.69,-68.93 1031.23,-64.16 1030.32,-71.1\"/>\n</g>\n<!-- 4382712272 -->\n<g id=\"node27\" class=\"node\">\n<title>4382712272</title>\n<polygon fill=\"none\" stroke=\"black\" points=\"2861,-80.5 2861,-116.5 3046,-116.5 3046,-80.5 2861,-80.5\"/>\n<text text-anchor=\"middle\" x=\"2872.5\" y=\"-94.8\" font-family=\"Times,serif\" font-size=\"14.00\">o</text>\n<polyline fill=\"none\" stroke=\"black\" points=\"2884,-80.5 2884,-116.5\"/>\n<text text-anchor=\"middle\" x=\"2924\" y=\"-94.8\" font-family=\"Times,serif\" font-size=\"14.00\">data 0.6044</text>\n<polyline fill=\"none\" stroke=\"black\" points=\"2964,-80.5 2964,-116.5\"/>\n<text text-anchor=\"middle\" x=\"3005\" y=\"-94.8\" font-family=\"Times,serif\" font-size=\"14.00\">grad 1.0000</text>\n</g>\n<!-- 4382712272*&#45;&gt;4382712272 -->\n<g id=\"edge10\" class=\"edge\">\n<title>4382712272*&#45;&gt;4382712272</title>\n<path fill=\"none\" stroke=\"black\" d=\"M2825.39,-98.5C2832.62,-98.5 2840.92,-98.5 2849.74,-98.5\"/>\n<polygon fill=\"black\" stroke=\"black\" points=\"2849.64,-102 2859.64,-98.5 2849.64,-95 2849.64,-102\"/>\n</g>\n</g>\n</svg>\n",
      "text/plain": "<graphviz.graphs.Digraph at 0x1053af810>"
     },
     "execution_count": 80,
     "metadata": {},
     "output_type": "execute_result"
    }
   ],
   "source": [
    "x1 = Value(2.0, label='x1')\n",
    "x2 = Value(0.0, label='x2')\n",
    "w1 = Value(-3.0, label='w1')\n",
    "w2 = Value(1.0, label='w2')\n",
    "\n",
    "b = Value(6.7, label='b')\n",
    "x1w1 = x1 * w1;\n",
    "x1w1.label = 'x1*w1'\n",
    "x2w2 = x2 * w2;\n",
    "x2w2.label = 'x2*w2'\n",
    "x1w1x2w2 = x1w1 + x2w2;\n",
    "x1w1x2w2.label = 'x1*w1 + x2*w2'\n",
    "n = x1w1x2w2 + b;\n",
    "n.label = 'n'\n",
    "\n",
    "e = (2*n).exp()\n",
    "o = (e - 1) / (e + 1)\n",
    "o.label = 'o'\n",
    "\n",
    "o.backward()\n",
    "draw_dot(o)"
   ],
   "metadata": {
    "collapsed": false
   }
  },
  {
   "cell_type": "code",
   "execution_count": 43,
   "outputs": [],
   "source": [
    "o.grad = 1.0\n",
    "\n",
    "topo = []\n",
    "visited = set()\n",
    "\n",
    "\n",
    "def build_topo(v):\n",
    "    if v not in visited:\n",
    "        visited.add(v)\n",
    "        for child in v._prev:\n",
    "            build_topo(child)\n",
    "        topo.append(v)\n",
    "\n",
    "\n",
    "build_topo(o)\n",
    "\n",
    "for node in reversed(topo):\n",
    "    node._backward()"
   ],
   "metadata": {
    "collapsed": false
   }
  },
  {
   "cell_type": "code",
   "execution_count": 37,
   "outputs": [
    {
     "data": {
      "text/plain": "[Value(data=6.7),\n Value(data=1.0),\n Value(data=0.0),\n Value(data=0.0),\n Value(data=2.0),\n Value(data=-3.0),\n Value(data=-6.0),\n Value(data=-6.0),\n Value(data=0.7000000000000002),\n Value(data=0.6043677771171636)]"
     },
     "execution_count": 37,
     "metadata": {},
     "output_type": "execute_result"
    }
   ],
   "source": [
    "topo = []\n",
    "visited = set()\n",
    "\n",
    "\n",
    "def build_topo(v):\n",
    "    if v not in visited:\n",
    "        visited.add(v)\n",
    "        for child in v._prev:\n",
    "            build_topo(child)\n",
    "        topo.append(v)\n",
    "\n",
    "\n",
    "build_topo(o)\n",
    "topo"
   ],
   "metadata": {
    "collapsed": false
   }
  },
  {
   "cell_type": "code",
   "execution_count": 0,
   "outputs": [],
   "source": [
    "o.grad = 1"
   ],
   "metadata": {
    "collapsed": false
   }
  },
  {
   "cell_type": "code",
   "execution_count": 29,
   "outputs": [],
   "source": [
    "o._backward()"
   ],
   "metadata": {
    "collapsed": false
   }
  },
  {
   "cell_type": "code",
   "execution_count": 31,
   "outputs": [],
   "source": [
    "n._backward()"
   ],
   "metadata": {
    "collapsed": false
   }
  },
  {
   "cell_type": "code",
   "execution_count": 33,
   "outputs": [],
   "source": [
    "x1w1x2w2._backward()"
   ],
   "metadata": {
    "collapsed": false
   }
  },
  {
   "cell_type": "code",
   "execution_count": 35,
   "outputs": [],
   "source": [
    "x2w2._backward()\n",
    "x1w1._backward()"
   ],
   "metadata": {
    "collapsed": false
   }
  },
  {
   "cell_type": "code",
   "execution_count": 19,
   "outputs": [],
   "source": [
    "x2.grad = w2.data * x2w2.grad\n",
    "w2.grad = x2.data * x2w2.grad\n",
    "\n",
    "x1.grad = w1.data * x1w1.grad\n",
    "w1.grad = x1.data * x1w1.grad"
   ],
   "metadata": {
    "collapsed": false
   }
  },
  {
   "cell_type": "code",
   "execution_count": 12,
   "outputs": [
    {
     "data": {
      "text/plain": "0.6347395899824584"
     },
     "execution_count": 12,
     "metadata": {},
     "output_type": "execute_result"
    }
   ],
   "source": [
    "1 - o.data ** 2"
   ],
   "metadata": {
    "collapsed": false
   }
  },
  {
   "cell_type": "code",
   "execution_count": null,
   "outputs": [],
   "source": [],
   "metadata": {
    "collapsed": false
   }
  }
 ],
 "metadata": {
  "kernelspec": {
   "display_name": "Python 3",
   "language": "python",
   "name": "python3"
  },
  "language_info": {
   "codemirror_mode": {
    "name": "ipython",
    "version": 2
   },
   "file_extension": ".py",
   "mimetype": "text/x-python",
   "name": "python",
   "nbconvert_exporter": "python",
   "pygments_lexer": "ipython2",
   "version": "2.7.6"
  }
 },
 "nbformat": 4,
 "nbformat_minor": 0
}
